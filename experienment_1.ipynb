{
 "cells": [
  {
   "cell_type": "code",
   "execution_count": 43,
   "metadata": {},
   "outputs": [
    {
     "ename": "ValueError",
     "evalue": "invalid literal for int() with base 10: 'hs hhahd diahiu hilad h'",
     "output_type": "error",
     "traceback": [
      "\u001b[0;31m---------------------------------------------------------------------------\u001b[0m",
      "\u001b[0;31mValueError\u001b[0m                                Traceback (most recent call last)",
      "\u001b[1;32m/home/zyk/python_learning/python_lecture/experienment/experienment_1.ipynb Cell 1\u001b[0m in \u001b[0;36m<cell line: 3>\u001b[0;34m()\u001b[0m\n\u001b[1;32m      <a href='vscode-notebook-cell:/home/zyk/python_learning/python_lecture/experienment/experienment_1.ipynb#W0sZmlsZQ%3D%3D?line=0'>1</a>\u001b[0m \u001b[39mimport\u001b[39;00m \u001b[39mrandom\u001b[39;00m\n\u001b[1;32m      <a href='vscode-notebook-cell:/home/zyk/python_learning/python_lecture/experienment/experienment_1.ipynb#W0sZmlsZQ%3D%3D?line=1'>2</a>\u001b[0m target\u001b[39m=\u001b[39mrandom\u001b[39m.\u001b[39mrandint(\u001b[39m0\u001b[39m,\u001b[39m100\u001b[39m)\n\u001b[0;32m----> <a href='vscode-notebook-cell:/home/zyk/python_learning/python_lecture/experienment/experienment_1.ipynb#W0sZmlsZQ%3D%3D?line=2'>3</a>\u001b[0m x\u001b[39m=\u001b[39m\u001b[39mint\u001b[39;49m(\u001b[39minput\u001b[39;49m(\u001b[39m\"\u001b[39;49m\u001b[39minput a number\u001b[39;49m\u001b[39m\"\u001b[39;49m))\n\u001b[1;32m      <a href='vscode-notebook-cell:/home/zyk/python_learning/python_lecture/experienment/experienment_1.ipynb#W0sZmlsZQ%3D%3D?line=3'>4</a>\u001b[0m \u001b[39mif\u001b[39;00m x\u001b[39m>\u001b[39mtarget:\n\u001b[1;32m      <a href='vscode-notebook-cell:/home/zyk/python_learning/python_lecture/experienment/experienment_1.ipynb#W0sZmlsZQ%3D%3D?line=4'>5</a>\u001b[0m     \u001b[39mprint\u001b[39m(\u001b[39m\"\u001b[39m\u001b[39mtoo large,the answer is \u001b[39m\u001b[39m\"\u001b[39m,target)\n",
      "\u001b[0;31mValueError\u001b[0m: invalid literal for int() with base 10: 'hs hhahd diahiu hilad h'"
     ]
    }
   ],
   "source": [
    "import random\n",
    "target=random.randint(0,100)\n",
    "x=int(input(\"input a number\"))\n",
    "if x>target:\n",
    "    print(\"too large,the answer is \",target)\n",
    "elif x<target:\n",
    "    print(\"too small,the answer is \",target)\n",
    "else:\n",
    "    print(\"right\")"
   ]
  },
  {
   "cell_type": "code",
   "execution_count": null,
   "metadata": {},
   "outputs": [],
   "source": [
    "import random\n",
    "target=random.randint(0,100)\n",
    "while(1):\n",
    "    x=int(input(\"input a number\"))\n",
    "    if x>target:\n",
    "        print(\"too large\")\n",
    "    elif x<target:\n",
    "        print(\"too small\")\n",
    "    else:\n",
    "        print(\"right\")\n",
    "        break\n",
    "    "
   ]
  },
  {
   "cell_type": "code",
   "execution_count": null,
   "metadata": {},
   "outputs": [
    {
     "name": "stdout",
     "output_type": "stream",
     "text": [
      "有24个数\n",
      "{132, 134, 142, 143, 412, 413, 421, 423, 431, 432, 312, 314, 321, 324, 213, 214, 341, 342, 231, 234, 241, 243, 123, 124}\n"
     ]
    }
   ],
   "source": [
    "alist=set()\n",
    "for i in range(1,5):\n",
    "    for j in range(1,5):\n",
    "        for k in range(1,5):\n",
    "            num=i*100+j*10+k\n",
    "            if i!=j and j!=k and i!=k:\n",
    "                alist.add(num)\n",
    "print(\"有{}个数\".format(len(alist)))\n",
    "print(alist)"
   ]
  },
  {
   "cell_type": "code",
   "execution_count": null,
   "metadata": {},
   "outputs": [
    {
     "name": "stdout",
     "output_type": "stream",
     "text": [
      "6是完数\n",
      "28是完数\n",
      "496是完数\n"
     ]
    }
   ],
   "source": [
    "import math\n",
    "for i in range(1,1001):\n",
    "    alist={j for j in range(1,i)if i%j==0}\n",
    "    if i ==sum(alist):\n",
    "        print(\"%d是完数\"%i)\n",
    "    alist.clear()\n",
    "        "
   ]
  },
  {
   "cell_type": "code",
   "execution_count": null,
   "metadata": {},
   "outputs": [
    {
     "name": "stdout",
     "output_type": "stream",
     "text": [
      "[74, 100, 6, 96, 84, 78, 32, 96, 86, 18, 46, 20, 30, 92, 78, 64, 94, 2, 62, 34, 62, 48, 34, 74, 58, 42]\n"
     ]
    }
   ],
   "source": [
    "import random\n",
    "alist=[random.randint(0,100) for x in range(50)]\n",
    "for i in range(len(alist)):\n",
    "    if alist[49-i]%2!=0 and alist[49-i]%2!=0:\n",
    "        alist.remove(alist[49-i])\n",
    "print(alist)"
   ]
  },
  {
   "cell_type": "code",
   "execution_count": null,
   "metadata": {},
   "outputs": [
    {
     "name": "stdout",
     "output_type": "stream",
     "text": [
      "[46, 95, 66, 94, 33, 100, 49, 72, 55, 4, 88, 56, 12, 41, 72, 44, 44, 63, 2, 1]\n",
      "[46, 66, 33, 49, 55, 88, 12, 72, 44, 2]\n",
      "[88, 72, 66, 55, 49, 46, 44, 33, 12, 2]\n",
      "[88, 95, 72, 94, 66, 100, 55, 72, 49, 4, 46, 56, 44, 41, 33, 44, 12, 63, 2, 1]\n"
     ]
    }
   ],
   "source": [
    "import random\n",
    "alist=[random.randint(0,100) for x in range(20)]\n",
    "print(alist)\n",
    "blist=alist[::2]\n",
    "print(blist)\n",
    "blist.sort(reverse=True)\n",
    "print(blist)\n",
    "alist[::2]=blist\n",
    "print(alist)"
   ]
  },
  {
   "cell_type": "code",
   "execution_count": null,
   "metadata": {},
   "outputs": [
    {
     "name": "stdout",
     "output_type": "stream",
     "text": [
      "[0, 1, 1, 2, 3, 5, 8, 13, 21, 34]\n"
     ]
    }
   ],
   "source": [
    "def Fibonacci(n):\n",
    "    if n <2:\n",
    "        return n\n",
    "    else:\n",
    "        return Fibonacci(n-1)+Fibonacci(n-2)\n",
    "n = int(input(\"请输入n\"))\n",
    "alist=[Fibonacci(x) for x in range(n) if Fibonacci(x)<n]\n",
    "print(alist)#时间复杂度过高"
   ]
  },
  {
   "cell_type": "code",
   "execution_count": null,
   "metadata": {},
   "outputs": [
    {
     "name": "stdout",
     "output_type": "stream",
     "text": [
      "[2, 3, 5, 7, 11, 13, 17, 19, 23, 29, 31, 37, 41, 43, 47, 53, 59, 61, 67, 71, 73, 79, 83, 89, 97]\n"
     ]
    }
   ],
   "source": [
    "import math\n",
    "def getfactor(x):\n",
    "    alist=[i for i in range(2,x) if x%i==0]\n",
    "    return alist\n",
    "n=int(input(\"请输入数字求素数\"))\n",
    "blist=[i for i in range(2,n) if len(getfactor(i))==0]\n",
    "print(blist)\n"
   ]
  },
  {
   "cell_type": "code",
   "execution_count": null,
   "metadata": {},
   "outputs": [
    {
     "name": "stdout",
     "output_type": "stream",
     "text": [
      "['k', 'j', 'h', 'g', 'f', 'd', 's', 'a'] ['a', 's', 'd', 'f', 'g', 'h', 'j', 'k']\n"
     ]
    }
   ],
   "source": [
    "x=list(input(\"请输入字符串\")) \n",
    "y=x[:]\n",
    "x.reverse()\n",
    "if x==y:\n",
    "    print(\"是回文字符串\")\n",
    "else:\n",
    "    print(\"不是\")"
   ]
  },
  {
   "cell_type": "code",
   "execution_count": null,
   "metadata": {},
   "outputs": [
    {
     "name": "stdout",
     "output_type": "stream",
     "text": [
      "yes\n"
     ]
    }
   ],
   "source": [
    "import re\n",
    "patterns=re.compile(\"apple\",re.I)\n",
    "setence=\"dashdioadaPpleidjaodi\"\n",
    "result=re.search(pattern=patterns,string=setence)\n",
    "if result!=None:\n",
    "    print(\"yes\")\n",
    "else:\n",
    "    print(\"no\")\n"
   ]
  },
  {
   "cell_type": "code",
   "execution_count": null,
   "metadata": {},
   "outputs": [
    {
     "name": "stdout",
     "output_type": "stream",
     "text": [
      "(54.2, 83, 74, 97, 72, 64)\n"
     ]
    }
   ],
   "source": [
    "import random\n",
    "n=int(input(\"请输入n\"))\n",
    "alist=[random.randint(0,100) for x in range(n)]\n",
    "average=sum(alist)/len(alist)\n",
    "atuple=[x for x in alist if x >average]\n",
    "atuple.insert(0,average)\n",
    "atuple=tuple(atuple)\n",
    "print(atuple)"
   ]
  },
  {
   "cell_type": "code",
   "execution_count": null,
   "metadata": {},
   "outputs": [
    {
     "name": "stdout",
     "output_type": "stream",
     "text": [
      "1.8080599999999922\n",
      "37.77500049474206\n"
     ]
    }
   ],
   "source": [
    "import random\n",
    "#做5休2\n",
    "def dayup(x):\n",
    "    \"\"\"x是努力百分比\"\"\"\n",
    "    workhard=1\n",
    "    for i in range(1,366):\n",
    "        if i%6==0 or i%7==0:\n",
    "            workhard*=0.99\n",
    "        else :\n",
    "            workhard*=(0.01*x+1)\n",
    "    return workhard\n",
    "\n",
    "workhard_1=37.78\n",
    "x=1\n",
    "loss=workhard_1-round(dayup(x),2)\n",
    "lr=0.00001\n",
    "while(loss!=0):\n",
    "    x+=loss*lr\n",
    "    loss=workhard_1-round(dayup(x),2)\n",
    "print(x)\n",
    "print(dayup(x))"
   ]
  },
  {
   "cell_type": "code",
   "execution_count": null,
   "metadata": {},
   "outputs": [
    {
     "name": "stdout",
     "output_type": "stream",
     "text": [
      "最大子串为5678,长度为4\n",
      "132456789\n"
     ]
    }
   ],
   "source": [
    "import re \n",
    "a=\"13245678\"\n",
    "b=\"56789\"\n",
    "for i in range(len(a)):\n",
    "    substring=a[len(a)-i-1:]\n",
    "    if re.match(pattern=substring,string=b) !=None:\n",
    "        print(\"最大子串为{},长度为{}\".format(substring,len(substring)))\n",
    "        c=re.split(pattern=substring,string=a)[0]\n",
    "        intersection=lambda x,y:x+y\n",
    "        print(intersection(c,b))\n",
    "        break\n",
    "if substring==a:\n",
    "    print(\"没有交叉子串，合并结果为\",substring+b)\n",
    "\n"
   ]
  },
  {
   "cell_type": "code",
   "execution_count": null,
   "metadata": {},
   "outputs": [
    {
     "name": "stdout",
     "output_type": "stream",
     "text": [
      "[1, 2, 3, 4, 5, 6, 7, 8, 9]\n"
     ]
    }
   ],
   "source": [
    "def toSet(alist):\n",
    "    alist=set(alist)\n",
    "    return list(alist)\n",
    "\n",
    "origin_list=[1,2,3,4,5,5,6,7,8,8,9]\n",
    "set_list=toSet(origin_list)\n",
    "print(set_list)"
   ]
  },
  {
   "cell_type": "code",
   "execution_count": null,
   "metadata": {},
   "outputs": [
    {
     "name": "stdout",
     "output_type": "stream",
     "text": [
      "字符串中数字个数为:14，字母个数为13，空格个数为2，其他字符个数为3\n"
     ]
    }
   ],
   "source": [
    "import re \n",
    "def count_(target_list):\n",
    "    pattern_1=\"[a-zA-Z]\"\n",
    "    pattern_2=\"[0-9]\"\n",
    "    pattern_3=\"[ ]\"\n",
    "    pattern_4=\"[^a-zA-Z0-9 ]\"\n",
    "    alist=re.findall(pattern=pattern_1,string=target_list)\n",
    "    blist=re.findall(pattern=pattern_2,string=target_list)\n",
    "    clist=re.findall(pattern=pattern_3,string=target_list)\n",
    "    dlist=re.findall(pattern=pattern_4,string=target_list)\n",
    "    return [len(alist),len(blist),len(clist),len(dlist)]\n",
    "target_list=\"1654545dhkahdkhdqe  45548qwe7___\"\n",
    "cnt=count_(target_list=target_list)\n",
    "print(\"字符串中数字个数为:{}，字母个数为{}，空格个数为{}，其他字符个数为{}\".format(cnt[0],cnt[1],cnt[2],cnt[3]))"
   ]
  },
  {
   "cell_type": "code",
   "execution_count": null,
   "metadata": {},
   "outputs": [
    {
     "name": "stdout",
     "output_type": "stream",
     "text": [
      "字符\"0\"出现了19次  字符\"1\"出现了12次  字符\"2\"出现了17次  字符\"3\"出现了15次  字符\"4\"出现了8次  字符\"5\"出现了15次  字符\"6\"出现了17次  字符\"7\"出现了21次  字符\"8\"出现了18次  字符\"9\"出现了21次  字符\"x\"出现了18次  字符\"c\"出现了17次  字符\"v\"出现了15次  字符\"b\"出现了15次  字符\"n\"出现了13次  字符\"m\"出现了19次  字符\"a\"出现了14次  字符\"s\"出现了21次  字符\"d\"出现了20次  字符\"f\"出现了16次  字符\"g\"出现了10次  字符\"h\"出现了25次  字符\"j\"出现了14次  字符\"k\"出现了14次  字符\"l\"出现了16次  字符\"q\"出现了13次  字符\"w\"出现了16次  字符\"e\"出现了16次  字符\"r\"出现了13次  字符\"t\"出现了17次  字符\"y\"出现了15次  字符\"u\"出现了15次  字符\"i\"出现了13次  字符\"o\"出现了9次  字符\"p\"出现了16次  字符\"[\"出现了17次  字符\"]\"出现了13次  字符\"\\\"出现了15次  字符\";\"出现了13次  字符\"'\"出现了22次  字符\",\"出现了12次  字符\".\"出现了14次  字符\"/\"出现了19次  字符\"!\"出现了17次  字符\"@\"出现了19次  字符\"#\"出现了21次  字符\"$\"出现了19次  字符\"%\"出现了11次  字符\"^\"出现了13次  字符\"&\"出现了15次  字符\"*\"出现了18次  字符\"(\"出现了21次  字符\")\"出现了16次  字符\"{\"出现了22次  字符\"}\"出现了16次  字符\"|\"出现了20次  字符\"<\"出现了15次  字符\">\"出现了16次  字符\"?\"出现了20次  字符\"`\"出现了17次  字符\"~\"出现了26次  'bag'\n"
     ]
    }
   ],
   "source": [
    "#问题一\n",
    "import random\n",
    "sourcelist=r\"0123456789xcvbnmasdfghjklqwertyuiop[]\\;',./!@#$%^&*(){}|<>?`~\"\n",
    "alist=random.choices(sourcelist,k=1000)\n",
    "cnt=dict()\n",
    "for i,j in enumerate(sourcelist):\n",
    "    cnt[i]=alist.count(j)\n",
    "for k,v in cnt.items():\n",
    "    print(\"字符\\\"{}\\\"出现了{}次\".format(sourcelist[k],v),end=\"  \")\n",
    "    \n",
    "    \n",
    "#问题二\n",
    "import re \n",
    "sequence=input(\"请输入序列，用逗号分割\")\n",
    "wordlist=re.split(\",\",sequence)\n",
    "wordlist=sorted(wordlist)\n",
    "wordlist=str(wordlist)\n",
    "wordlist=wordlist[1:-1]\n",
    "print(wordlist)\n"
   ]
  },
  {
   "cell_type": "code",
   "execution_count": null,
   "metadata": {},
   "outputs": [
    {
     "name": "stdout",
     "output_type": "stream",
     "text": [
      "1,2,3,4,5\n",
      "交集为{'5', '4'}并集为{'1', '8', '4', '7', '6', '3', '2', '5'}差集为{'3', '1', '2'}\n"
     ]
    }
   ],
   "source": [
    "#问题一\n",
    "setA=input(\"请输入集合A,数字之间用空格隔开\")\n",
    "setB=input(\"请输入集合B,数字之间用空格隔开\")\n",
    "setA=set(setA.split(\",\"))\n",
    "setB=set(setB.split(\",\"))\n",
    "intersection=setA.intersection(setB)\n",
    "union=setA.union(setB)\n",
    "differnce=setA.difference(setB)\n",
    "print(\"交集为{}并集为{}差集为{}\".format(intersection,union,differnce))\n"
   ]
  },
  {
   "cell_type": "code",
   "execution_count": 45,
   "metadata": {},
   "outputs": [
    {
     "name": "stdout",
     "output_type": "stream",
     "text": [
      "['1', '78', '456', '56744', '489746546']\n"
     ]
    }
   ],
   "source": [
    "#问题二\n",
    "wordlist=input(\"输入单词用空格隔开\")\n",
    "wordlist=wordlist.split(\" \")\n",
    "wordlist=list(set(wordlist))\n",
    "wordlist=sorted(wordlist,key=lambda x:len(x))\n",
    "print(wordlist)"
   ]
  },
  {
   "cell_type": "code",
   "execution_count": 55,
   "metadata": {},
   "outputs": [
    {
     "name": "stdout",
     "output_type": "stream",
     "text": [
      "生成的嵌套链表为： [['hye7nmld5c'], ['uy87jpmd'], ['uyh86sxq0c'], ['87pbilwc'], ['tagni0c'], ['7f3xil2q'], ['hevs3ri'], ['ua8p3xml0'], ['ye4fprilw'], ['y463nmq0w']]\n",
      "['tagni0c', 'hevs3ri', 'uy87jpmd', '87pbilwc', '7f3xil2q', 'ua8p3xml0', 'ye4fprilw', 'y463nmq0w', 'hye7nmld5c', 'uyh86sxq0c']\n"
     ]
    }
   ],
   "source": [
    "import random\n",
    "def getlist(m):\n",
    "    sourcelist=r\"0123456789xcvbnmasdfghjklqwertyuiop\"\n",
    "    alist=random.choices(sourcelist,k=m)\n",
    "    alist = set(alist)\n",
    "    alist=\"\".join(alist)\n",
    "    return [alist]\n",
    "m=int(input(\"请输入m\"))\n",
    "n=int(input(\"请输入n\"))\n",
    "blist=[]\n",
    "blist=[getlist(m) for i in range(n)]\n",
    "print(\"生成的嵌套链表为：\",blist)\n",
    "clist=[y for x in blist for y in x]\n",
    "result=sorted(clist,key=lambda x:len(x),reverse=True)\n",
    "print(result)    "
   ]
  },
  {
   "cell_type": "code",
   "execution_count": null,
   "metadata": {},
   "outputs": [],
   "source": [
    "import random\n",
    "alist=[random.randint(10)for i in range(5)]\n",
    "blist=alist[:]\n",
    "print(\"新链表为：\",blist)\n",
    "blist.reverse()\n",
    "print(\"逆序链表为：\",blist)\n",
    "print(\"偶数链表为：\",alist[::2])"
   ]
  },
  {
   "cell_type": "code",
   "execution_count": 80,
   "metadata": {},
   "outputs": [
    {
     "name": "stdout",
     "output_type": "stream",
     "text": [
      "(2, 9, 3, 1, 4, 1, 4, 10, 2, 1)\n",
      "9 3 1 1 1 "
     ]
    }
   ],
   "source": [
    "import random\n",
    "n=int(input(\"请输入n\"))\n",
    "m=int(input(\"请输入m\"))\n",
    "alist=(random.randint(0,m) for i in range(n))\n",
    "atuple=tuple(alist)\n",
    "print(atuple)\n",
    "for i in atuple:\n",
    "    if i %2!=0:\n",
    "        print(i,end=\" \")"
   ]
  },
  {
   "cell_type": "code",
   "execution_count": 90,
   "metadata": {},
   "outputs": [
    {
     "name": "stdout",
     "output_type": "stream",
     "text": [
      "['i', 'love', 'apple', 'apple']\n",
      "{'i': 1, 'love': 1, 'apple': 2}\n"
     ]
    }
   ],
   "source": [
    "import re\n",
    "setence=input(\"输入一段英文\")\n",
    "patterns=\"[a-zA-Z]+\"\n",
    "word_dict={}\n",
    "wordset=re.findall(pattern=patterns,string=setence)\n",
    "print(wordset)\n",
    "for i in wordset:\n",
    "    word_dict[i]= word_dict.get(i,0) +1\n",
    "print(word_dict)"
   ]
  },
  {
   "cell_type": "code",
   "execution_count": 107,
   "metadata": {},
   "outputs": [
    {
     "name": "stdout",
     "output_type": "stream",
     "text": [
      "i love apple apple you but bug and\n",
      "['you', 'but', 'bug', 'and']\n"
     ]
    }
   ],
   "source": [
    "import re \n",
    "patterns=re.compile(r\"\\b[A-Za-z]{3}\\b\")\n",
    "setence=input(\"输入一段英文\")\n",
    "print(setence)\n",
    "word_list=re.findall(pattern=patterns,string=setence)\n",
    "print(word_list)"
   ]
  },
  {
   "cell_type": "code",
   "execution_count": 114,
   "metadata": {},
   "outputs": [
    {
     "name": "stdout",
     "output_type": "stream",
     "text": [
      "0eh80ryamd0n8934rerq\n",
      "ryamd\n"
     ]
    }
   ],
   "source": [
    "import re\n",
    "sourcelist=r\"0123456789xcvbnmasdfghjklqwertyuiop\"\n",
    "n=int(input(\"请输入n\"))\n",
    "alist=\"\".join(random.choices(sourcelist,k=n))\n",
    "print(alist)\n",
    "patterns=\"[a-zA-Z]+\"\n",
    "substring=re.findall(pattern=patterns,string=alist)\n",
    "biggest=sorted(substring)[-1]\n",
    "print(biggest)\n"
   ]
  },
  {
   "cell_type": "code",
   "execution_count": 115,
   "metadata": {},
   "outputs": [
    {
     "name": "stdout",
     "output_type": "stream",
     "text": [
      "{'a': '1', 'a1': '2', 'a2': '3', 'a3': '4'}\n"
     ]
    }
   ],
   "source": [
    "import re\n",
    "astring=\"a:1*a1:2*a2:3*a3:4\"\n",
    "patterns1=\"[*]\"\n",
    "patterns2=\"[:]\"\n",
    "alist=re.split(pattern=patterns1,string=astring)\n",
    "adict={}\n",
    "for i in alist:\n",
    "    key,value=re.split(pattern=patterns2,string=i)\n",
    "    adict[key]=value\n",
    "print(adict)"
   ]
  },
  {
   "cell_type": "code",
   "execution_count": 120,
   "metadata": {},
   "outputs": [
    {
     "data": {
      "text/plain": [
       "(6, 7)"
      ]
     },
     "execution_count": 120,
     "metadata": {},
     "output_type": "execute_result"
    }
   ],
   "source": [
    "alist=[1,2,3,4,5,6,7,8,9]\n",
    "num=7\n",
    "def search(num,alist):\n",
    "    head=0\n",
    "    tail=len(alist)-1\n",
    "    mid=(head+tail)//2\n",
    "    while alist[mid]!=num:\n",
    "        if alist[mid]<num:\n",
    "            head=mid\n",
    "            mid=(head+tail)//2\n",
    "        elif alist[mid]>num:\n",
    "            tail=mid\n",
    "            mid=(tail+head)//2\n",
    "    return mid,num\n",
    "\n",
    "search(num,alist)"
   ]
  },
  {
   "cell_type": "code",
   "execution_count": 123,
   "metadata": {},
   "outputs": [
    {
     "name": "stdout",
     "output_type": "stream",
     "text": [
      "数字13出现了2次\n",
      "数字5出现了2次\n",
      "数字18出现了2次\n",
      "数字14出现了3次\n",
      "数字8出现了2次\n"
     ]
    }
   ],
   "source": [
    "from collections import Counter\n",
    "import random\n",
    "alist=[random.randint(1,20)for i in range(20)]\n",
    "cnt=Counter(alist)\n",
    "for i ,j in cnt.items():\n",
    "    if j!=1:\n",
    "        print(\"数字{}出现了{}次\".format(i,j))"
   ]
  },
  {
   "cell_type": "code",
   "execution_count": 124,
   "metadata": {},
   "outputs": [
    {
     "name": "stdout",
     "output_type": "stream",
     "text": [
      "位数为:5,逆序为54321\n"
     ]
    }
   ],
   "source": [
    "num=input(\"请输入一个不大于五的数\")\n",
    "digitnum=len(num)\n",
    "reversednum=\"\".join(reversed(list(num)))\n",
    "print(\"位数为:{},逆序为{}\".format(digitnum,reversednum))"
   ]
  },
  {
   "cell_type": "code",
   "execution_count": 127,
   "metadata": {},
   "outputs": [
    {
     "name": "stdout",
     "output_type": "stream",
     "text": [
      "三次都没猜对\n"
     ]
    }
   ],
   "source": [
    "import random\n",
    "num=random.randint(0,10)\n",
    "x=0\n",
    "for i in range (3):\n",
    "    x=input(\"来猜猜是什么数字\")\n",
    "    if num==x:\n",
    "        print(\"正确的\")\n",
    "        break\n",
    "    else:\n",
    "        print(\"错误的\")\n",
    "if x !=num:\n",
    "    print(\"三次都没猜对\")\n"
   ]
  }
 ],
 "metadata": {
  "kernelspec": {
   "display_name": "Python 3.9.12 ('base')",
   "language": "python",
   "name": "python3"
  },
  "language_info": {
   "codemirror_mode": {
    "name": "ipython",
    "version": 3
   },
   "file_extension": ".py",
   "mimetype": "text/x-python",
   "name": "python",
   "nbconvert_exporter": "python",
   "pygments_lexer": "ipython3",
   "version": "3.9.12"
  },
  "orig_nbformat": 4,
  "vscode": {
   "interpreter": {
    "hash": "71568ce01c9e6cc120890be5b6d201b6cade196f3ca1a0ecd03de4560c81feb6"
   }
  }
 },
 "nbformat": 4,
 "nbformat_minor": 2
}
