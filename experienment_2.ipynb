{
 "cells": [
  {
   "cell_type": "code",
   "execution_count": null,
   "metadata": {},
   "outputs": [],
   "source": []
  },
  {
   "cell_type": "code",
   "execution_count": 90,
   "metadata": {},
   "outputs": [
    {
     "name": "stdout",
     "output_type": "stream",
     "text": [
      "李四的平均分是 64.66666666666667\n",
      "王五的平均分是 73.0\n",
      "今天吃什么的平均分是 60.333333333333336\n",
      "法拉不会飞的平均分是 100.0\n",
      "第0名学号为：20204,姓名是法拉不会飞，性别是男的平均分是100.0\n",
      "高数的分数为100\n",
      "英语的分数为100\n",
      "计算机的分数为100\n",
      "第1名学号为：20202,姓名是王五，性别是女的平均分是73.0\n",
      "高数的分数为50\n",
      "英语的分数为79\n",
      "计算机的分数为90\n",
      "第2名学号为：20201,姓名是李四，性别是男的平均分是64.66666666666667\n",
      "高数的分数为89\n",
      "英语的分数为28\n",
      "计算机的分数为77\n",
      "第3名学号为：20203,姓名是今天吃什么，性别是男的平均分是60.333333333333336\n",
      "高数的分数为79\n",
      "英语的分数为56\n",
      "计算机的分数为46\n"
     ]
    }
   ],
   "source": [
    "import re \n",
    "class Student(object):\n",
    "    # 构造方法\n",
    "    def __init__(self, num,name,gender,classs, scores):\n",
    "        self.__name = name     # 姓名\n",
    "        self.__num=num          #学号\n",
    "        self.__class=classs    #班级\n",
    "        self.__scores = scores # 分数\n",
    "        self.__gender=gender #性别\n",
    "    def get_name(self):\n",
    "        return self.__name\n",
    "    def get_averagegrade(self):\n",
    "        return sum(self.__scores.values())/len(self.__scores.values())\n",
    "    def get_num(self):\n",
    "        return self.__num\n",
    "    def get_class(self):\n",
    "        return self.__class\n",
    "    def get_gender(self):\n",
    "        return  self.__gender \n",
    "    def get_grade (self):\n",
    "        return self.__scores  \n",
    "    def modify(self):\n",
    "        subject=input(\"请输入要改成绩的科目\")  \n",
    "        self.__scores[subject]=int(input(\"请修改\"))\n",
    "    def addgrade(self):\n",
    "        subject=input(\"请输入要增加的科目\")  \n",
    "        self.__scores[subject]=int(input(\"请输入\"))\n",
    "    def deletegrade(self):\n",
    "        subject=input(\"请输入要删除的科目\")  \n",
    "        del(self.__scores[subject])\n",
    "def todict(alist):\n",
    "    alist=alist[4:]\n",
    "    patterns=r\"[:：\\n]\"\n",
    "    gradedict={}\n",
    "    for i in alist:\n",
    "        blist=re.split(pattern=patterns,string=i)\n",
    "        gradedict[blist[0]]=int(blist[1])\n",
    "    return gradedict\n",
    "dir=\"学生信息.txt\"\n",
    "file=open(dir,\"r\")\n",
    "information=file.readlines()\n",
    "inflist=[x.split(\" \")for x in information ]\n",
    "Studentlist=[]\n",
    "for i,alist in enumerate(inflist):\n",
    "    exec(\"student{}=Student(alist[0],alist[1],alist[2],alist[3],todict(alist))\".format(i))\n",
    "    exec(\"Studentlist.append(student{})\".format(i))\n",
    "for stu in Studentlist:\n",
    "    print(\"{}的平均分是\".format(stu.get_name()),stu.get_averagegrade())\n",
    "sortedlist=sorted(Studentlist,key=lambda x:x.get_averagegrade(),reverse=True)\n",
    "for i,stu in enumerate(sortedlist):\n",
    "    print(\"第{}名学号为：{},姓名是{}，性别是{}的平均分是{}\".format(i,stu.get_num(),stu.get_name(),stu.get_gender(),stu.get_averagegrade()))\n",
    "    for k,v in stu.get_grade().items():\n",
    "        print(\"{}的分数为{}\".format(k,v))\n"
   ]
  },
  {
   "cell_type": "code",
   "execution_count": 91,
   "metadata": {},
   "outputs": [
    {
     "data": {
      "text/plain": [
       "30"
      ]
     },
     "execution_count": 91,
     "metadata": {},
     "output_type": "execute_result"
    }
   ],
   "source": [
    "30"
   ]
  },
  {
   "cell_type": "code",
   "execution_count": 92,
   "metadata": {},
   "outputs": [
    {
     "name": "stdout",
     "output_type": "stream",
     "text": [
      "5\n",
      "10\n"
     ]
    }
   ],
   "source": [
    "class vehicle():\n",
    "    def __init__(self) :\n",
    "        self.__height=0\n",
    "        self.__MaxSpeed=0\n",
    "    def SetSpeed(self):\n",
    "        self.__MaxSpeed=int(input(\"请输入速度\"))\n",
    "    def get_speed(self):\n",
    "        return self.__MaxSpeed\n",
    "class Bicycle(vehicle):\n",
    "    def __get(self):\n",
    "        return self.__height\n",
    "    def __set(self,values):\n",
    "        self.__height=values\n",
    "    def __delete(self):\n",
    "        del self.__height\n",
    "    Height=property(__get,__set,__delete)\n",
    "if __name__==\"__main__\":\n",
    "    bike=Bicycle()\n",
    "    bike.SetSpeed()\n",
    "    print(bike.get_speed())\n",
    "    bike.Height=10\n",
    "    print(bike.Height)\n",
    "    "
   ]
  },
  {
   "cell_type": "code",
   "execution_count": 93,
   "metadata": {},
   "outputs": [
    {
     "name": "stdout",
     "output_type": "stream",
     "text": [
      "队列首元素为0\n",
      "不为空\n",
      "[0, 1, 2, 3, 4, 5, 6, 7, 8, 9]\n",
      "[1, 2, 3, 4, 5, 6, 7, 8, 9]\n"
     ]
    }
   ],
   "source": [
    "#队列；先进先出\n",
    "class Queue(object):\n",
    "    def __init__(self): #定义一个空队列\n",
    "        self.queue = []\n",
    "    def in_queue(self,element): #1个元素入队列\n",
    "        self.queue.append(element)\n",
    "    def out_queue(self): #出队列\n",
    "        if not self.queue == []:    #队列不为空时，弹出第一个元素\n",
    "            out_element = self.queue.pop(0)\n",
    "        else:\n",
    "            print('队列为空,无法出队列!')  #队列为空时报错\n",
    "    def head(self): #队列首元素\n",
    "        if not self.queue == []:   #队列不为空\n",
    "            print('队列首元素为%s'%self.queue[0])\n",
    "        else:\n",
    "            print('队列为空,无队列首元素!')\n",
    "    def is_empty(self): #判断队列是否为空\n",
    "        if len(self.queue) == 0:\n",
    "            print('队列为空!')\n",
    "        else:\n",
    "            print(\"不为空\")\n",
    "\n",
    "if __name__==\"__main__\":\n",
    "    queue1=Queue()\n",
    "    for i in range(10):\n",
    "        queue1.in_queue(i)\n",
    "    queue1.head()\n",
    "    queue1.is_empty()\n",
    "    print(queue1.queue)\n",
    "    queue1.out_queue()\n",
    "    print(queue1.queue)\n"
   ]
  },
  {
   "cell_type": "code",
   "execution_count": 94,
   "metadata": {},
   "outputs": [
    {
     "ename": "ValueError",
     "evalue": "invalid literal for int() with base 10: ''",
     "output_type": "error",
     "traceback": [
      "\u001b[0;31m---------------------------------------------------------------------------\u001b[0m",
      "\u001b[0;31mValueError\u001b[0m                                Traceback (most recent call last)",
      "Cell \u001b[0;32mIn [94], line 4\u001b[0m\n\u001b[1;32m      2\u001b[0m \u001b[38;5;28;01mimport\u001b[39;00m \u001b[38;5;21;01mrandom\u001b[39;00m\n\u001b[1;32m      3\u001b[0m sourcelist\u001b[38;5;241m=\u001b[39m\u001b[38;5;124mr\u001b[39m\u001b[38;5;124m\"\u001b[39m\u001b[38;5;124m0123456789xcvbnmasdfghjklqwertyuiop\u001b[39m\u001b[38;5;124m\"\u001b[39m\n\u001b[0;32m----> 4\u001b[0m n\u001b[38;5;241m=\u001b[39m\u001b[38;5;28;43mint\u001b[39;49m\u001b[43m(\u001b[49m\u001b[38;5;28;43minput\u001b[39;49m\u001b[43m(\u001b[49m\u001b[38;5;124;43m\"\u001b[39;49m\u001b[38;5;124;43m请输入n\u001b[39;49m\u001b[38;5;124;43m\"\u001b[39;49m\u001b[43m)\u001b[49m\u001b[43m)\u001b[49m\n\u001b[1;32m      5\u001b[0m file\u001b[38;5;241m=\u001b[39m\u001b[38;5;28mopen\u001b[39m(\u001b[38;5;124m\"\u001b[39m\u001b[38;5;124m33.txt\u001b[39m\u001b[38;5;124m\"\u001b[39m,\u001b[38;5;124m\"\u001b[39m\u001b[38;5;124mw\u001b[39m\u001b[38;5;124m\"\u001b[39m)\n\u001b[1;32m      6\u001b[0m \u001b[38;5;28;01mfor\u001b[39;00m i \u001b[38;5;129;01min\u001b[39;00m \u001b[38;5;28mrange\u001b[39m(\u001b[38;5;241m10\u001b[39m):\n",
      "\u001b[0;31mValueError\u001b[0m: invalid literal for int() with base 10: ''"
     ]
    }
   ],
   "source": [
    "import re\n",
    "import random\n",
    "sourcelist=r\"0123456789xcvbnmasdfghjklqwertyuiop\"\n",
    "n=int(input(\"请输入n\"))\n",
    "file=open(\"33.txt\",\"w\")\n",
    "for i in range(10):\n",
    "    alist=\"\".join(random.choices(sourcelist,k=n))\n",
    "    print(alist)\n",
    "    file.write(alist)\n",
    "    file.write(\"\\n\")\n",
    "file.close()\n",
    "file=open(\"33.txt\",\"r\")\n",
    "blist=file.readlines()\n",
    "print(blist)\n",
    "print(\"当前有{}个字符串\".format(len(blist)))\n",
    "file.close()\n",
    "    "
   ]
  },
  {
   "cell_type": "code",
   "execution_count": null,
   "metadata": {},
   "outputs": [
    {
     "name": "stdout",
     "output_type": "stream",
     "text": [
      "['H', 'D', 'I', 'Q', 'U', 'Y', 'R', 'I', 'm', 'k', 'l', 'c', 'a', 'j', 'a', 'p', 'i', 'w', 'u', 'p', 'u', 'M', 'O', 'I', 'E', 'J', 'O', 'I', 'H', 'W', 'U', 'E', 'F', 'G', 'H', '\\n', 'K', 'J', 'X', 'J', 'A', 'O', 'I', 'H', 'D', 'I', 'O', 'e', 'h', 'w', 'i', 'o', 't', 'h', 'o', 'h', 'f', 'i', 'o', 'e']\n"
     ]
    }
   ],
   "source": [
    "import re \n",
    "dir=\"34.TXT\"\n",
    "temp=[]\n",
    "with open(dir,\"r\") as file:\n",
    "    for i in file.read():\n",
    "        if i<=\"Z\" and i >=\"A\":\n",
    "            temp.append(i.lower())\n",
    "        elif i<=\"z\" and i >=\"a\":\n",
    "            temp.append(i.upper())\n",
    "        else:\n",
    "            temp.append(i)\n",
    "print(temp)\n",
    "with open(dir,\"w\") as file:\n",
    "    text=\"\".join(temp)\n",
    "    file.write(text)\n"
   ]
  },
  {
   "cell_type": "code",
   "execution_count": null,
   "metadata": {},
   "outputs": [
    {
     "name": "stdout",
     "output_type": "stream",
     "text": [
      "['这几天心里颇不宁静。今晚在院子里坐着乘凉，忽然想起日日走过的荷塘，在这满月的光里，总该另有一番样子吧。月亮渐渐地升高了，墙外马路上孩子们的欢笑，已经听不见了；妻在屋里拍着闰儿，迷迷糊糊地哼着眠歌。我悄悄地披了大衫，带上门出去。\\n', '\\n', '\\u3000\\u3000沿着荷塘，是一条曲折的小煤屑路。这是一条幽僻的路；白天也少人走，夜晚更加寂寞。荷塘四面，长着许多树，蓊蓊郁郁的。路的一旁，是些杨柳，和一些不知道名字的树。没有月光的晚上，这路上阴森森的，有些怕人。今晚却很好，虽然月光也还是淡淡的。\\n', '\\n', '\\u3000\\u3000路上只我一个人，背着手踱着。这一片天地好像是我的；我也像超出了平常的自己，到了另一个世界里。我爱热闹，也爱冷静；爱群居，也爱独处。像今晚上，一个人在这苍茫的月下，什么都可以想，什么都可以不想，便觉是个自由的人。白天里一定要做的事，一定要说的话，现 在都可不理。这是独处的妙处，我且受用这无边的荷香月色好了。\\n', '\\n', '\\u3000\\u3000曲曲折折的荷塘上面，弥望的是田田的叶子。叶子出水很高，像亭亭的舞女的裙。层层的叶子中间，零星地点缀着些白花，有袅娜地开着的，有羞涩地打着朵儿的；正如一粒粒的明珠，又如碧天里的星星，又如刚出浴的美人。微风过处，送来缕缕清香，仿佛远处高楼上渺茫的歌声似的。这时候叶子与花也有一丝的颤动，像闪电般，霎时传过荷塘的那边去了。叶子本是肩并肩密密地挨着，这便宛然有了一道凝碧的波痕。叶子底下是脉脉⑺的流水，遮住了，不能见一些颜色；而叶子却更见风致了。\\n', '\\n', '\\u3000\\u3000月光如流水一般，静静地泻在这一片叶子和花上。薄薄的青雾浮起在荷塘里。叶子和花仿佛在牛乳中洗过一样；又像笼着轻纱的梦。虽然是满月，天上却有一层淡淡的云，所以不能朗照；但我以为这恰是到了好处——酣眠固不可少，小睡也别有风味的。月光是隔了树照过来的，高处丛生的灌木，落下参差的斑驳的黑影，峭楞楞如鬼一般；弯弯的杨柳的稀疏的倩影，却又像是画在荷叶上。塘中的月色并不均匀；但光与影有着和谐的旋律，如梵婀玲上奏着的名曲。\\n', '\\n', '\\u3000\\u3000荷塘的四面，远远近近，高高低低都是树，而杨柳最多。这些树将一片荷塘重重围住；只在小路一旁，漏着几段空隙，像是特为月光留下的。树色一例是阴阴的，乍看像一团烟雾；但杨柳的丰姿，便在烟雾里也辨得出。树梢上隐隐约约的是一带远山，只有些大意罢了。树缝里也漏着一两点路灯光，没精打采的，是渴睡人的眼。这时候最热闹的，要数树上的蝉声与水里的蛙声；但热闹是它们的，我什么也没有。\\n', '\\n', '\\u3000\\u3000忽然想起采莲的事情来了。采莲是江南的旧俗，似乎很早就有，而六朝时为盛；从诗歌里可以约略知道。采莲的是少年的女子，她们是荡着小船，唱着艳歌去的。采莲人不用说很多，还有看采莲的人。那是一个热闹的季节，也是一个风流的季节。梁元帝《采莲赋》里说得好：\\n', '\\n', '\\u3000\\u3000于是妖童媛女，荡舟心许；鷁首徐回，兼传羽杯；棹将移而藻挂，船欲动而萍开。尔其纤腰束素，迁延顾步；夏始春余，叶嫩花初，恐沾裳而浅笑，畏倾船而敛裾⒅。\\n', '\\n', '\\u3000\\u3000可见当时嬉游的光景了。这真是有趣的事，可惜我们现 在早已无福消受了。\\n', '\\n', '\\u3000\\u3000于是又记起，《西洲曲》里的句子：\\n', '\\n', '\\u3000\\u3000采莲南塘秋，莲花过人头；低头弄莲子，莲子清如水。\\n', '\\n', '\\u3000\\u3000今晚若有采莲人，这儿的莲花也算得“过人头”了；只不见一些流水的影子，是不行的。这令我到底惦着江南了。——这样想着，猛一抬头，不觉已是自己的门前；轻轻地推门进去，什么声息也没有，妻已睡熟好久了。\\n', '\\n', '\\u3000\\u3000一九二七年七月，北京清华园。\\n']\n"
     ]
    }
   ],
   "source": [
    "dir=\"35.txt\"\n",
    "with open(dir,\"r\",encoding=\"GBK\") as file:\n",
    "    content=file.readlines()\n",
    "    print(content)\n",
    "with open(\"35_new.txt\",\"w\",encoding=\"utf-8\") as file:\n",
    "    file.writelines(content)\n",
    "    "
   ]
  },
  {
   "cell_type": "code",
   "execution_count": null,
   "metadata": {},
   "outputs": [
    {
     "name": "stdout",
     "output_type": "stream",
     "text": [
      "['学生信息.txt', '35_new.txt', '35.txt', '33.txt']\n"
     ]
    }
   ],
   "source": [
    "import os\n",
    "alist=os.listdir(\"/home/zyk/python_learning/python_lecture/experienment/\")\n",
    "blist=[x for x in alist if x[-3:]==\"txt\"]\n",
    "print(blist)"
   ]
  },
  {
   "cell_type": "code",
   "execution_count": null,
   "metadata": {},
   "outputs": [
    {
     "data": {
      "text/plain": [
       "37"
      ]
     },
     "execution_count": 75,
     "metadata": {},
     "output_type": "execute_result"
    }
   ],
   "source": [
    "37"
   ]
  },
  {
   "cell_type": "code",
   "execution_count": null,
   "metadata": {},
   "outputs": [],
   "source": [
    "n = int(input(\"请输入人数：\"))\n",
    "list = [] # 创建一个空列表\n",
    "count = 0 #创建一个计数的值\n",
    "for i in range(1,n+1): #创建一个循环，将列表当中的所有元素都添加进去\n",
    "    list.append(i)\n",
    "print(list)\n",
    "while True: # 如果为真 创建一个条件循环\n",
    "    if len(list) == 1: # 如果列表的长度为1\n",
    "        print(list) # 打印出该列表的数字\n",
    "        break\n",
    "    else: #否则针对其余情况，单独创建一个如下的条件\n",
    "        count += 1 # 记数加1\n",
    "    pop = list[0] #取出列表当中的第一个元素，并赋值给pop\n",
    "    list.pop(0) #移除列表当中的第一个元素\n",
    "    if count == 3: # 如果count的数为3的时候\n",
    "        count = 0 #count归0\n",
    "        continue #并继续\n",
    "    else: # 否则\n",
    "        list.append(pop) #将移除的元素加入到list当中，如此循环往复\n",
    "    print(list) # 最后打印出剩余在list中的元素\n"
   ]
  },
  {
   "cell_type": "code",
   "execution_count": null,
   "metadata": {},
   "outputs": [],
   "source": [
    "n=int(input(\"请输入n\"))\n",
    "alist=[x for x in range(1,n+1)]\n",
    "print(alist)\n",
    "flag=0\n",
    "while flag!=1:\n",
    "    for i in range(3):  \n",
    "        if len(alist)!=1:\n",
    "            if (i+1)%3==0:\n",
    "                if len(alist)==2:\n",
    "                    alist.pop(0)\n",
    "                else:\n",
    "                    alist.pop(i)\n",
    "                    alist=alist[i:]+alist[:i]\n",
    "        else:\n",
    "            flag=1\n",
    "            break\n",
    "    print(alist)\n",
    "            "
   ]
  },
  {
   "cell_type": "code",
   "execution_count": 112,
   "metadata": {},
   "outputs": [
    {
     "name": "stdout",
     "output_type": "stream",
     "text": [
      "['abcdEF12#@']\n"
     ]
    }
   ],
   "source": [
    "import re\n",
    "pattern1=\"[a-z]+\"\n",
    "pattern2=\"[0-9]+\"\n",
    "pattern3=\"[$#@]+\"\n",
    "pattern4=\"[A-Z]+\"\n",
    "code=input(\"请输入密码，用逗号隔开\")\n",
    "code=re.split(pattern=\"[,]\",string=code)\n",
    "result=[]\n",
    "for i in code:\n",
    "    if len(i)>=6 and len(i)<=12:\n",
    "        if re.search(pattern1,i)!=None and re.search(pattern2,i)!=None and re.search(pattern3,i)!=None \\\n",
    "            and re.search(pattern4,i)!=None :\n",
    "            result.append(i)\n",
    "print(result)"
   ]
  },
  {
   "cell_type": "code",
   "execution_count": 125,
   "metadata": {},
   "outputs": [
    {
     "name": "stdout",
     "output_type": "stream",
     "text": [
      "[10, 5, 15, 1]\n",
      "1010\n",
      "0101\n",
      "1111\n"
     ]
    }
   ],
   "source": [
    "binary=input(\"请输4位二进制序列，用逗号隔开\")\n",
    "binary=binary.split(\",\")\n",
    "def divable(n):\n",
    "    if n%5==0:\n",
    "        return True\n",
    "    else:\n",
    "        return False\n",
    "def buling(n):\n",
    "    while len(n)<4:\n",
    "        n=\"0\"+n   \n",
    "    return n \n",
    "numlist=[int(x,2) for x in binary]\n",
    "print(numlist)\n",
    "result=filter(divable,numlist)\n",
    "result=map(lambda x :bin(x)[2:],result)\n",
    "result=map(buling,result)\n",
    "\n",
    "for i in result:\n",
    "    print(i)"
   ]
  },
  {
   "cell_type": "code",
   "execution_count": 10,
   "metadata": {},
   "outputs": [
    {
     "name": "stdout",
     "output_type": "stream",
     "text": [
      "[0.0000e+00 1.0000e-04 2.0000e-04 ... 9.9997e+00 9.9998e+00 9.9999e+00]\n",
      "[ 0.00000000e+00  9.99999998e-05  1.99999999e-04 ... -5.43769365e-01\n",
      " -5.43853286e-01 -5.43937201e-01]\n"
     ]
    },
    {
     "data": {
      "image/png": "[encoded data removed]",
      "text/plain": [
       "<Figure size 432x288 with 2 Axes>"
      ]
     },
     "metadata": {
      "needs_background": "light"
     },
     "output_type": "display_data"
    }
   ],
   "source": [
    "from matplotlib import pyplot as plt\n",
    "import numpy as np\n",
    "x1=np.arange(0,10,0.0001)\n",
    "print(x1)\n",
    "y1=np.sin(x1)\n",
    "print(y1)\n",
    "y2=np.cos(x1)\n",
    "ax1=plt.subplot(2,1,1,title=\"sin\")\n",
    "plt.plot(x1,y1)\n",
    "ax2=plt.subplot(2,1,2,title=\"cos\")\n",
    "plt.plot(x1,y2,\"y\")\n",
    "plt.show()"
   ]
  }
 ],
 "metadata": {
  "kernelspec": {
   "display_name": "Python 3.9.12 ('base')",
   "language": "python",
   "name": "python3"
  },
  "language_info": {
   "codemirror_mode": {
    "name": "ipython",
    "version": 3
   },
   "file_extension": ".py",
   "mimetype": "text/x-python",
   "name": "python",
   "nbconvert_exporter": "python",
   "pygments_lexer": "ipython3",
   "version": "3.9.12"
  },
  "orig_nbformat": 4,
  "vscode": {
   "interpreter": {
    "hash": "71568ce01c9e6cc120890be5b6d201b6cade196f3ca1a0ecd03de4560c81feb6"
   }
  }
 },
 "nbformat": 4,
 "nbformat_minor": 2
}
